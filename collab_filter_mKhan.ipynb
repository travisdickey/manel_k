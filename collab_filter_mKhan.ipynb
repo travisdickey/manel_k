{
 "cells": [
  {
   "cell_type": "markdown",
   "metadata": {},
   "source": [
    "## Collaborative Filter - Netflix Prize Data"
   ]
  },
  {
   "cell_type": "markdown",
   "metadata": {},
   "source": [
    "Prepared for Manel Khan"
   ]
  },
  {
   "cell_type": "code",
   "execution_count": 22,
   "metadata": {},
   "outputs": [],
   "source": [
    "%reload_ext autoreload\n",
    "%autoreload 2\n",
    "%matplotlib inline\n",
    "\n",
    "# requires Fast.ai library, available at https://github.com/fastai/fastai\n",
    "# works best on a GPU; there is a cpu version, but this code\n",
    "# was tested on the GPU version using a Paperspace instance.\n",
    "from fastai.learner import *\n",
    "from fastai.column_data import *\n",
    "import csv"
   ]
  },
  {
   "cell_type": "code",
   "execution_count": 23,
   "metadata": {},
   "outputs": [],
   "source": [
    "#path to directory containing data\n",
    "path = 'data/manel_khan/'"
   ]
  },
  {
   "cell_type": "code",
   "execution_count": null,
   "metadata": {},
   "outputs": [],
   "source": [
    "# read in data as pandas dataframe\n",
    "ratings = pd.read_csv(path+'all_ratings.csv')\n",
    "ratings.head()"
   ]
  },
  {
   "cell_type": "code",
   "execution_count": null,
   "metadata": {},
   "outputs": [],
   "source": [
    "# sort values by user_id\n",
    "ratings.sort_values(['user_id'], inplace=True)\n",
    "ratings.head()"
   ]
  },
  {
   "cell_type": "code",
   "execution_count": null,
   "metadata": {},
   "outputs": [],
   "source": [
    "# toal number of users and ratings\n",
    "len(ratings.user_id.unique()), ratings.shape[0]"
   ]
  },
  {
   "cell_type": "code",
   "execution_count": null,
   "metadata": {},
   "outputs": [],
   "source": [
    "# save sorted dataframe to csv\n",
    "ratings.to_csv(path+'ratings_sorted.csv', index=False)"
   ]
  },
  {
   "cell_type": "code",
   "execution_count": null,
   "metadata": {},
   "outputs": [],
   "source": [
    "# read in sorted csv as dataframe\n",
    "ratings = pd.read_csv(path+'ratings_sorted.csv')"
   ]
  },
  {
   "cell_type": "code",
   "execution_count": null,
   "metadata": {},
   "outputs": [],
   "source": [
    "# create sample\n",
    "sample_ratings = ratings.iloc[:1000000]\n",
    "sample_ratings.head()"
   ]
  },
  {
   "cell_type": "code",
   "execution_count": null,
   "metadata": {},
   "outputs": [],
   "source": [
    "# save sample to csv\n",
    "sample_ratings.to_csv(path+'sample_ratings.csv', index = False)"
   ]
  },
  {
   "cell_type": "code",
   "execution_count": 24,
   "metadata": {},
   "outputs": [
    {
     "data": {
      "text/html": [
       "<div>\n",
       "<style scoped>\n",
       "    .dataframe tbody tr th:only-of-type {\n",
       "        vertical-align: middle;\n",
       "    }\n",
       "\n",
       "    .dataframe tbody tr th {\n",
       "        vertical-align: top;\n",
       "    }\n",
       "\n",
       "    .dataframe thead th {\n",
       "        text-align: right;\n",
       "    }\n",
       "</style>\n",
       "<table border=\"1\" class=\"dataframe\">\n",
       "  <thead>\n",
       "    <tr style=\"text-align: right;\">\n",
       "      <th></th>\n",
       "      <th>movie_id</th>\n",
       "      <th>user_id</th>\n",
       "      <th>rating</th>\n",
       "    </tr>\n",
       "  </thead>\n",
       "  <tbody>\n",
       "    <tr>\n",
       "      <th>0</th>\n",
       "      <td>17324</td>\n",
       "      <td>6</td>\n",
       "      <td>3</td>\n",
       "    </tr>\n",
       "    <tr>\n",
       "      <th>1</th>\n",
       "      <td>7040</td>\n",
       "      <td>6</td>\n",
       "      <td>3</td>\n",
       "    </tr>\n",
       "    <tr>\n",
       "      <th>2</th>\n",
       "      <td>16605</td>\n",
       "      <td>6</td>\n",
       "      <td>4</td>\n",
       "    </tr>\n",
       "    <tr>\n",
       "      <th>3</th>\n",
       "      <td>3608</td>\n",
       "      <td>6</td>\n",
       "      <td>4</td>\n",
       "    </tr>\n",
       "    <tr>\n",
       "      <th>4</th>\n",
       "      <td>6099</td>\n",
       "      <td>6</td>\n",
       "      <td>5</td>\n",
       "    </tr>\n",
       "  </tbody>\n",
       "</table>\n",
       "</div>"
      ],
      "text/plain": [
       "   movie_id  user_id  rating\n",
       "0     17324        6       3\n",
       "1      7040        6       3\n",
       "2     16605        6       4\n",
       "3      3608        6       4\n",
       "4      6099        6       5"
      ]
     },
     "execution_count": 24,
     "metadata": {},
     "output_type": "execute_result"
    }
   ],
   "source": [
    "# read in sample as dataframe\n",
    "sample_ratings = pd.read_csv(path+'sample_ratings.csv')\n",
    "sample_ratings.head()"
   ]
  },
  {
   "cell_type": "markdown",
   "metadata": {},
   "source": [
    "Just for display purposes, let's read in the movie names too."
   ]
  },
  {
   "cell_type": "code",
   "execution_count": 25,
   "metadata": {},
   "outputs": [
    {
     "data": {
      "text/plain": [
       "False"
      ]
     },
     "execution_count": 25,
     "metadata": {},
     "output_type": "execute_result"
    }
   ],
   "source": [
    "sample_ratings.isnull().values.any()"
   ]
  },
  {
   "cell_type": "code",
   "execution_count": 27,
   "metadata": {},
   "outputs": [
    {
     "data": {
      "text/plain": [
       "(16218, 4666)"
      ]
     },
     "execution_count": 27,
     "metadata": {},
     "output_type": "execute_result"
    }
   ],
   "source": [
    "len(sample_ratings.movie_id.unique()), len(sample_ratings.user_id.unique())"
   ]
  },
  {
   "cell_type": "code",
   "execution_count": 28,
   "metadata": {},
   "outputs": [
    {
     "data": {
      "text/html": [
       "<div>\n",
       "<style scoped>\n",
       "    .dataframe tbody tr th:only-of-type {\n",
       "        vertical-align: middle;\n",
       "    }\n",
       "\n",
       "    .dataframe tbody tr th {\n",
       "        vertical-align: top;\n",
       "    }\n",
       "\n",
       "    .dataframe thead th {\n",
       "        text-align: right;\n",
       "    }\n",
       "</style>\n",
       "<table border=\"1\" class=\"dataframe\">\n",
       "  <thead>\n",
       "    <tr style=\"text-align: right;\">\n",
       "      <th></th>\n",
       "      <th>movie_id</th>\n",
       "      <th>Year</th>\n",
       "      <th>Title</th>\n",
       "    </tr>\n",
       "  </thead>\n",
       "  <tbody>\n",
       "    <tr>\n",
       "      <th>0</th>\n",
       "      <td>1</td>\n",
       "      <td>2003.0</td>\n",
       "      <td>Dinosaur Planet</td>\n",
       "    </tr>\n",
       "    <tr>\n",
       "      <th>1</th>\n",
       "      <td>2</td>\n",
       "      <td>2004.0</td>\n",
       "      <td>Isle of Man TT 2004 Review</td>\n",
       "    </tr>\n",
       "    <tr>\n",
       "      <th>2</th>\n",
       "      <td>3</td>\n",
       "      <td>1997.0</td>\n",
       "      <td>Character</td>\n",
       "    </tr>\n",
       "    <tr>\n",
       "      <th>3</th>\n",
       "      <td>4</td>\n",
       "      <td>1994.0</td>\n",
       "      <td>Paula Abdul's Get Up &amp; Dance</td>\n",
       "    </tr>\n",
       "    <tr>\n",
       "      <th>4</th>\n",
       "      <td>5</td>\n",
       "      <td>2004.0</td>\n",
       "      <td>The Rise and Fall of ECW</td>\n",
       "    </tr>\n",
       "  </tbody>\n",
       "</table>\n",
       "</div>"
      ],
      "text/plain": [
       "   movie_id    Year                         Title\n",
       "0         1  2003.0               Dinosaur Planet\n",
       "1         2  2004.0    Isle of Man TT 2004 Review\n",
       "2         3  1997.0                     Character\n",
       "3         4  1994.0  Paula Abdul's Get Up & Dance\n",
       "4         5  2004.0      The Rise and Fall of ECW"
      ]
     },
     "execution_count": 28,
     "metadata": {},
     "output_type": "execute_result"
    }
   ],
   "source": [
    "# movies csv to dataframe (Movie titles containing commas truncated for now)\n",
    "movies = pd.read_csv(path+'movie_titles_1.csv')\n",
    "movies = movies[['movie_id','Year','Title']].copy()\n",
    "movies.head()"
   ]
  },
  {
   "cell_type": "markdown",
   "metadata": {},
   "source": [
    "## Collaborative filtering"
   ]
  },
  {
   "cell_type": "code",
   "execution_count": 5,
   "metadata": {},
   "outputs": [],
   "source": [
    "val_idxs = get_cv_idxs(len(sample_ratings)) # indexes for validation set\n",
    "wd=1e-5 # weight-decay\n",
    "n_factors = 50 # number of embeddings"
   ]
  },
  {
   "cell_type": "code",
   "execution_count": 6,
   "metadata": {},
   "outputs": [],
   "source": [
    "# sets data and learner model - a lot happening behind the scenes here\n",
    "# see fastai/column_data.py & fastai/learner.py for details\n",
    "cf = CollabFilterDataset.from_csv(path, 'sample_ratings.csv', 'user_id', 'movie_id', 'rating')\n",
    "learn = cf.get_learner(n_factors, val_idxs, 64, opt_fn=optim.Adam)"
   ]
  },
  {
   "cell_type": "code",
   "execution_count": null,
   "metadata": {},
   "outputs": [],
   "source": [
    "# find optimal learning rate (see plot below)\n",
    "learn.lr_find()"
   ]
  },
  {
   "cell_type": "code",
   "execution_count": null,
   "metadata": {},
   "outputs": [],
   "source": [
    "# optimal learning rate is lowest number where curve is clearly going down, here 1e-4\n",
    "learn.sched.plot()"
   ]
  },
  {
   "cell_type": "code",
   "execution_count": null,
   "metadata": {
    "scrolled": false
   },
   "outputs": [],
   "source": [
    "# the lower the loss, the better the model\n",
    "learn.fit(1e-3, 1, wds=wd, cycle_len=5, use_clr_beta=(5,20,0.95,0.75))"
   ]
  },
  {
   "cell_type": "markdown",
   "metadata": {},
   "source": [
    "To get [RMSE](http://www.statisticshowto.com/rmse/), we'll need to take the square root of our loss, which is plain MSE (Mean Squared Error). I don't have benchmark data on the Netflix dataset. The benchmark for the Movielens data was 0.91"
   ]
  },
  {
   "cell_type": "code",
   "execution_count": null,
   "metadata": {},
   "outputs": [],
   "source": [
    "# get RMSE - surprisingly val_loss was better on the 1% sample than the 10% sample\n",
    "math.sqrt(0.747) # on 1% of dataset\n",
    "#math.sqrt(0.846) # on 10% of dataset"
   ]
  },
  {
   "cell_type": "code",
   "execution_count": null,
   "metadata": {},
   "outputs": [],
   "source": [
    "# save the weights from the finished model\n",
    "learn.save('subset_1p') #subset 1%"
   ]
  },
  {
   "cell_type": "code",
   "execution_count": 7,
   "metadata": {},
   "outputs": [],
   "source": [
    "# load the weights\n",
    "learn.load('subset_1p')"
   ]
  },
  {
   "cell_type": "code",
   "execution_count": 11,
   "metadata": {},
   "outputs": [],
   "source": [
    "# get predictions - here we are getting predictions on the validation set\n",
    "preds = learn.predict()"
   ]
  },
  {
   "cell_type": "code",
   "execution_count": null,
   "metadata": {},
   "outputs": [],
   "source": [
    "y=learn.data.val_y\n",
    "sns.jointplot(preds, y, kind='hex', stat_func=None);"
   ]
  },
  {
   "cell_type": "code",
   "execution_count": null,
   "metadata": {},
   "outputs": [],
   "source": [
    "new_data = np.array(18001, cf.items[0])"
   ]
  },
  {
   "cell_type": "code",
   "execution_count": null,
   "metadata": {},
   "outputs": [],
   "source": [
    "new_data = torch.from_numpy(new_data)\n",
    "new_data = new_data.cuda()\n",
    "new_data = Variable(new_data)\n",
    "new_data = new_data.long()\n",
    "blankconts = torch.from_numpy(np.zeros(1))\n",
    "blankconts = Variable(blankconts.cuda())\n",
    "blankconts = blankconts.long()"
   ]
  },
  {
   "cell_type": "code",
   "execution_count": null,
   "metadata": {},
   "outputs": [],
   "source": [
    "learn.data.val_y.reshape(-1)\n",
    "learn.data.val_y"
   ]
  },
  {
   "cell_type": "code",
   "execution_count": null,
   "metadata": {},
   "outputs": [],
   "source": [
    "m = learn.model\n",
    "m.eval()"
   ]
  },
  {
   "cell_type": "markdown",
   "metadata": {},
   "source": [
    "## Analyze results"
   ]
  },
  {
   "cell_type": "markdown",
   "metadata": {},
   "source": [
    "### Movie bias"
   ]
  },
  {
   "cell_type": "markdown",
   "metadata": {},
   "source": [
    "This section provides the way to retrieve recommendations. There are two types of lists below: one for overall highest and lowest rated movies (or shows), and one for movies by category (or embedding). Unfortunately, because the data only contains ratings, we don't currently have good definitions for the categories. Nevertheless, the algorithm has detected some type of connection in these movies based on user preferences. "
   ]
  },
  {
   "cell_type": "markdown",
   "metadata": {},
   "source": [
    "Here is one way to use this information. For a user, present them with a few lists based on the different types shown below. For example, you could always present users with a list of the highest rated movies overall (separating out the ones that viewer had viewed on your system.) Then present them with a list containing a few top rated and low rated from each category. (See embedding interpretation below, which in this example only lists two categories, but there are 50 total categories, or embeddings.)\n",
    "\n",
    "Then you would want some way to track ratings provided by the user as well as their watching history. You could ask them directly to rate movies, which is how Netflix used to handle it and how [Movielens](https://movielens.org/) handles it now. (My understanding is that Movielens was the research that Netflix used for their initial algorithm, but not certain about that.) Or you could do something like give weighted ratings to movies they chose to watch based on things such as, did they watch all the way through, have they watched similar movies before, etc.\n",
    "\n",
    "Regardless of how you do it, you would add all new users to your database and each time you got a new rating on the user, you would update their entry in the database.\n",
    "\n",
    "You would then retrain your model periodically, say once every evening, to update recommendations based on the users new ratings."
   ]
  },
  {
   "cell_type": "code",
   "execution_count": 8,
   "metadata": {},
   "outputs": [],
   "source": [
    "movie_names = movies.set_index('movie_id')['Title'].to_dict()\n",
    "g=sample_ratings.groupby('movie_id')['rating'].count()\n",
    "topMovies=g.sort_values(ascending=False).index.values[:3000]\n",
    "topMovieIdx = np.array([cf.item2idx[o] for o in topMovies])"
   ]
  },
  {
   "cell_type": "code",
   "execution_count": 65,
   "metadata": {},
   "outputs": [
    {
     "data": {
      "text/plain": [
       "EmbeddingDotBias(\n",
       "  (u): Embedding(4666, 50)\n",
       "  (i): Embedding(16218, 50)\n",
       "  (ub): Embedding(4666, 1)\n",
       "  (ib): Embedding(16218, 1)\n",
       ")"
      ]
     },
     "execution_count": 65,
     "metadata": {},
     "output_type": "execute_result"
    }
   ],
   "source": [
    "m=learn.model; m.cuda() # cuda() puts it on the GPU"
   ]
  },
  {
   "cell_type": "markdown",
   "metadata": {},
   "source": [
    "First, we'll look at the movie bias term. Here, our input is the movie id (a single id), and the output is the movie bias (a single float)."
   ]
  },
  {
   "cell_type": "code",
   "execution_count": 82,
   "metadata": {},
   "outputs": [],
   "source": [
    "movie_bias = to_np(m.ib(V(topMovieIdx)))"
   ]
  },
  {
   "cell_type": "code",
   "execution_count": 83,
   "metadata": {},
   "outputs": [
    {
     "data": {
      "text/plain": [
       "array([[ 0.04897],\n",
       "       [ 0.4301 ],\n",
       "       [ 0.3891 ],\n",
       "       ...,\n",
       "       [-0.18556],\n",
       "       [ 0.25064],\n",
       "       [ 0.06926]], dtype=float32)"
      ]
     },
     "execution_count": 83,
     "metadata": {},
     "output_type": "execute_result"
    }
   ],
   "source": [
    "movie_bias"
   ]
  },
  {
   "cell_type": "code",
   "execution_count": 84,
   "metadata": {},
   "outputs": [],
   "source": [
    "movie_ratings = [(b[0], movie_names[i]) for i,b in zip(topMovies,movie_bias)]"
   ]
  },
  {
   "cell_type": "markdown",
   "metadata": {},
   "source": [
    "Now we can look at the top and bottom rated movies. These ratings are corrected for different levels of reviewer sentiment, as well as different types of movies that different reviewers watch."
   ]
  },
  {
   "cell_type": "code",
   "execution_count": 86,
   "metadata": {},
   "outputs": [
    {
     "data": {
      "text/plain": [
       "[(1.285652,\n",
       "  'The Lord of the Rings: The Fellowship of the Ring: Extended Edition'),\n",
       " (1.2448416, 'The Shawshank Redemption: Special Edition'),\n",
       " (1.1919568, 'Lord of the Rings: The Two Towers: Extended Edition'),\n",
       " (1.1755052, 'Lord of the Rings: The Return of the King: Extended Edition'),\n",
       " (1.0958456, '24: Season 1'),\n",
       " (1.0514416, 'Lost: Season 1'),\n",
       " (1.0285147, '24: Season 3'),\n",
       " (1.0155619, '24: Season 2'),\n",
       " (1.0095052, 'The Sopranos: Season 2'),\n",
       " (0.9983973, 'Finding Nemo (Widescreen)'),\n",
       " (0.9549404, 'The Godfather'),\n",
       " (0.94233835, 'Band of Brothers'),\n",
       " (0.9226732, 'Shrek (Full-screen)'),\n",
       " (0.9126036, 'Seinfeld: Season 4'),\n",
       " (0.91236794, 'Seinfeld: Season 3')]"
      ]
     },
     "execution_count": 86,
     "metadata": {},
     "output_type": "execute_result"
    }
   ],
   "source": [
    "# Overall top rated movies\n",
    "sorted(movie_ratings, key=lambda o: o[0], reverse=True)[:15]"
   ]
  },
  {
   "cell_type": "code",
   "execution_count": 85,
   "metadata": {},
   "outputs": [
    {
     "data": {
      "text/plain": [
       "[(-0.6249363, 'Gigli'),\n",
       " (-0.5721485, 'Birth'),\n",
       " (-0.51279885, 'Full Frontal'),\n",
       " (-0.512489, 'Battlefield Earth'),\n",
       " (-0.4987886, 'The Blair Witch Project'),\n",
       " (-0.49404448, 'The Real Cancun'),\n",
       " (-0.47506443, 'Punch-Drunk Love'),\n",
       " (-0.47201887, 'In the Cut'),\n",
       " (-0.47094148, 'Speed 2: Cruise Control'),\n",
       " (-0.4664452, 'Cop and a Half'),\n",
       " (-0.46310356, \"Look Who's Talking Too\"),\n",
       " (-0.449463, 'Solaris'),\n",
       " (-0.43183392, 'Dr. T & the Women'),\n",
       " (-0.43164447, 'Fear Dot Com'),\n",
       " (-0.42341313, 'Dumb and Dumberer: When Harry Met Lloyd')]"
      ]
     },
     "execution_count": 85,
     "metadata": {},
     "output_type": "execute_result"
    }
   ],
   "source": [
    "# Bottom rate movies\n",
    "sorted(movie_ratings, key=lambda o: o[0])[:15]"
   ]
  },
  {
   "cell_type": "markdown",
   "metadata": {},
   "source": [
    "### Embedding interpretation"
   ]
  },
  {
   "cell_type": "markdown",
   "metadata": {},
   "source": [
    "We can now do the same thing for the embeddings."
   ]
  },
  {
   "cell_type": "code",
   "execution_count": 87,
   "metadata": {},
   "outputs": [
    {
     "data": {
      "text/plain": [
       "(3000, 50)"
      ]
     },
     "execution_count": 87,
     "metadata": {},
     "output_type": "execute_result"
    }
   ],
   "source": [
    "movie_emb = to_np(m.i(V(topMovieIdx)))\n",
    "movie_emb.shape"
   ]
  },
  {
   "cell_type": "markdown",
   "metadata": {},
   "source": [
    "Because it's hard to interpret 50 embeddings, we use [PCA](https://plot.ly/ipython-notebooks/principal-component-analysis/) to simplify them down to just 3 vectors. "
   ]
  },
  {
   "cell_type": "code",
   "execution_count": 88,
   "metadata": {},
   "outputs": [],
   "source": [
    "from sklearn.decomposition import PCA\n",
    "pca = PCA(n_components=3)\n",
    "movie_pca = pca.fit(movie_emb.T).components_"
   ]
  },
  {
   "cell_type": "code",
   "execution_count": 89,
   "metadata": {},
   "outputs": [
    {
     "data": {
      "text/plain": [
       "(3, 3000)"
      ]
     },
     "execution_count": 89,
     "metadata": {},
     "output_type": "execute_result"
    }
   ],
   "source": [
    "movie_pca.shape"
   ]
  },
  {
   "cell_type": "code",
   "execution_count": 90,
   "metadata": {},
   "outputs": [],
   "source": [
    "fac0 = movie_pca[0]\n",
    "movie_comp = [(f, movie_names[i]) for f,i in zip(fac0, topMovies)]"
   ]
  },
  {
   "cell_type": "markdown",
   "metadata": {},
   "source": [
    "The next two cells compares different movies according to the 1st component. Since the model just interpreted these from the ratings, you have to kind of guess at what the component is. This one seems to be something like 'dialog-driven vs. action'."
   ]
  },
  {
   "cell_type": "code",
   "execution_count": 91,
   "metadata": {},
   "outputs": [
    {
     "data": {
      "text/plain": [
       "[(0.030628404, 'Dogville'),\n",
       " (0.029855572, 'House of the Dead'),\n",
       " (0.028271262, 'A Dirty Shame'),\n",
       " (0.027520465, 'Birth'),\n",
       " (0.027499147, 'Full Frontal'),\n",
       " (0.02658904, 'Gigli'),\n",
       " (0.025919093, 'Northfork'),\n",
       " (0.025175285, 'Punch-Drunk Love'),\n",
       " (0.024872184, 'Down by Law'),\n",
       " (0.02447841, 'I Heart Huckabees')]"
      ]
     },
     "execution_count": 91,
     "metadata": {},
     "output_type": "execute_result"
    }
   ],
   "source": [
    "sorted(movie_comp, key=itemgetter(0), reverse=True)[:10]"
   ]
  },
  {
   "cell_type": "code",
   "execution_count": 92,
   "metadata": {},
   "outputs": [
    {
     "data": {
      "text/plain": [
       "[(-0.061105847, 'Friends: The Series Finale'),\n",
       " (-0.05795087, 'Lord of the Rings: The Return of the King'),\n",
       " (-0.05728614, 'Sex and the City: Season 3'),\n",
       " (-0.056470715, 'Sex and the City: Season 2'),\n",
       " (-0.055565093, 'The Best of Friends: Season 1'),\n",
       " (-0.055215485, 'The Shawshank Redemption: Special Edition'),\n",
       " (-0.05368456, 'Friends: Season 4'),\n",
       " (-0.052445725, 'Friends: Season 1'),\n",
       " (-0.05243055, 'Raiders of the Lost Ark'),\n",
       " (-0.051834688, 'The Lion King: Special Edition')]"
      ]
     },
     "execution_count": 92,
     "metadata": {},
     "output_type": "execute_result"
    }
   ],
   "source": [
    "sorted(movie_comp, key=itemgetter(0))[:10]"
   ]
  },
  {
   "cell_type": "code",
   "execution_count": 93,
   "metadata": {},
   "outputs": [],
   "source": [
    "fac1 = movie_pca[1]\n",
    "movie_comp = [(f, movie_names[i]) for f,i in zip(fac1, topMovies)]"
   ]
  },
  {
   "cell_type": "markdown",
   "metadata": {},
   "source": [
    "Here's the 2nd component."
   ]
  },
  {
   "cell_type": "code",
   "execution_count": 94,
   "metadata": {},
   "outputs": [
    {
     "data": {
      "text/plain": [
       "[(0.05827615, 'Pearl Harbor'),\n",
       " (0.052898996, \"Look Who's Talking Now\"),\n",
       " (0.04985066, 'Armageddon'),\n",
       " (0.049850464, 'Maid in Manhattan'),\n",
       " (0.04857209, 'How to Lose a Guy in 10 Days'),\n",
       " (0.04821224, 'The Wedding Planner'),\n",
       " (0.047354992, 'Catwoman'),\n",
       " (0.047273904, 'The Fast and the Furious'),\n",
       " (0.046562552, 'Coyote Ugly'),\n",
       " (0.04565226, 'Gone in 60 Seconds')]"
      ]
     },
     "execution_count": 94,
     "metadata": {},
     "output_type": "execute_result"
    }
   ],
   "source": [
    "sorted(movie_comp, key=itemgetter(0), reverse=True)[:10]"
   ]
  },
  {
   "cell_type": "code",
   "execution_count": 95,
   "metadata": {},
   "outputs": [
    {
     "data": {
      "text/plain": [
       "[(-0.051720567, 'Eternal Sunshine of the Spotless Mind'),\n",
       " (-0.050828137, 'The Royal Tenenbaums'),\n",
       " (-0.050689492, 'Memento'),\n",
       " (-0.050265793, 'Pulp Fiction'),\n",
       " (-0.049813297, 'Lost in Translation'),\n",
       " (-0.04772519, 'Dr. Strangelove'),\n",
       " (-0.046974305, 'The Office Special'),\n",
       " (-0.045323737, 'Monty Python and the Holy Grail'),\n",
       " (-0.044915974, 'Being John Malkovich'),\n",
       " (-0.044807382, 'The Simpsons: Season 4')]"
      ]
     },
     "execution_count": 95,
     "metadata": {},
     "output_type": "execute_result"
    }
   ],
   "source": [
    "sorted(movie_comp, key=itemgetter(0))[:10]"
   ]
  },
  {
   "cell_type": "markdown",
   "metadata": {},
   "source": [
    "We can draw a picture to see how various movies appear on the map of these components. This picture shows the first two components."
   ]
  },
  {
   "cell_type": "code",
   "execution_count": 96,
   "metadata": {
    "scrolled": false
   },
   "outputs": [
    {
     "data": {
      "image/png": "[encoded data removed]",
      "text/plain": [
       "<Figure size 1080x1080 with 1 Axes>"
      ]
     },
     "metadata": {},
     "output_type": "display_data"
    }
   ],
   "source": [
    "idxs = np.random.choice(len(topMovies), 50, replace=False)\n",
    "X = fac0[idxs]\n",
    "Y = fac1[idxs]\n",
    "plt.figure(figsize=(15,15))\n",
    "plt.scatter(X, Y)\n",
    "for i, x, y in zip(topMovies[idxs], X, Y):\n",
    "    plt.text(x,y,movie_names[i], color=np.random.rand(3)*0.7, fontsize=11)\n",
    "plt.show()"
   ]
  },
  {
   "cell_type": "code",
   "execution_count": null,
   "metadata": {},
   "outputs": [],
   "source": []
  }
 ],
 "metadata": {
  "kernelspec": {
   "display_name": "Python 3",
   "language": "python",
   "name": "python3"
  },
  "language_info": {
   "codemirror_mode": {
    "name": "ipython",
    "version": 3
   },
   "file_extension": ".py",
   "mimetype": "text/x-python",
   "name": "python",
   "nbconvert_exporter": "python",
   "pygments_lexer": "ipython3",
   "version": "3.6.5"
  },
  "toc": {
   "colors": {
    "hover_highlight": "#DAA520",
    "navigate_num": "#000000",
    "navigate_text": "#333333",
    "running_highlight": "#FF0000",
    "selected_highlight": "#FFD700",
    "sidebar_border": "#EEEEEE",
    "wrapper_background": "#FFFFFF"
   },
   "moveMenuLeft": true,
   "nav_menu": {
    "height": "123px",
    "width": "252px"
   },
   "navigate_menu": true,
   "number_sections": true,
   "sideBar": true,
   "threshold": 4,
   "toc_cell": false,
   "toc_section_display": "block",
   "toc_window_display": false,
   "widenNotebook": false
  }
 },
 "nbformat": 4,
 "nbformat_minor": 2
}
